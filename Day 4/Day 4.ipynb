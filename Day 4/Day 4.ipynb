{
 "cells": [
  {
   "cell_type": "markdown",
   "metadata": {},
   "source": [
    "# Question 1 \n",
    "Research on whether addition, subtraction, multiplication, division, floor division and modulo\n",
    "operations be performed on complex numbers. Based on your study, implement a Python\n",
    "program to demonstrate these operations."
   ]
  },
  {
   "cell_type": "code",
   "execution_count": 9,
   "metadata": {},
   "outputs": [
    {
     "name": "stdout",
     "output_type": "stream",
     "text": [
      "Enter the first complex number :  7+8j\n",
      "Enter second complex number :  6+5j\n",
      "Addition=  (13+13j)\n",
      "Subtraction=  (1+3j)\n",
      "Multiplication=  (2+83j)\n",
      "Division=  (1.3442622950819672+0.21311475409836056j)\n",
      "Floor division i.e, a//b of complex numbers are not possible.\n",
      "Modulus i.e, a%b of complex numbers are not possible.\n"
     ]
    }
   ],
   "source": [
    "#Answer 1\n",
    "a=complex(input(\"Enter the first complex number :  \"))\n",
    "b=complex(input(\"Enter second complex number :  \"))\n",
    "print(\"Addition= \" ,a+b)\n",
    "print(\"Subtraction= \",a-b)\n",
    "print(\"Multiplication= \",a*b)\n",
    "print(\"Division= \",a/b)\n",
    "print(\"Floor division i.e, a//b of complex numbers are not possible.\")\n",
    "print(\"Modulus i.e, a%b of complex numbers are not possible.\")"
   ]
  },
  {
   "cell_type": "markdown",
   "metadata": {},
   "source": [
    "# Question 2 \n",
    "Research on range() functions and its parameters. Create a markdown cell and write in your own\n",
    "words (no copy-paste from google please) what you understand about it. Implement a small\n",
    "program of your choice on the same."
   ]
  },
  {
   "cell_type": "markdown",
   "metadata": {},
   "source": [
    "## Answer 2\n",
    "Range() function simply creates a list of numbers .Range(n) creates a list of numbers between 0 to n-1. For example , range(5) creates  list of numbers between 0 to 4."
   ]
  },
  {
   "cell_type": "code",
   "execution_count": 15,
   "metadata": {},
   "outputs": [
    {
     "name": "stdout",
     "output_type": "stream",
     "text": [
      "0 1 2 3 4 5 6 7 8 "
     ]
    }
   ],
   "source": [
    "#program for range(n)\n",
    "for i in range(9):\n",
    "  print(i , end=\" \")"
   ]
  },
  {
   "cell_type": "markdown",
   "metadata": {},
   "source": [
    "Range(si,ei) creates a list of numbers between si(start index),ei-1(ei-End index)."
   ]
  },
  {
   "cell_type": "code",
   "execution_count": 16,
   "metadata": {},
   "outputs": [
    {
     "name": "stdout",
     "output_type": "stream",
     "text": [
      "3 4 5 6 7 8 "
     ]
    }
   ],
   "source": [
    "#program for range(si,ei)\n",
    "for i in range(3,9):\n",
    "    print(i, end=\" \")"
   ]
  },
  {
   "cell_type": "markdown",
   "metadata": {},
   "source": [
    "Range(si,ei,step) creates a list of numbers between si to ei-1 in stepwise manner."
   ]
  },
  {
   "cell_type": "code",
   "execution_count": 21,
   "metadata": {},
   "outputs": [
    {
     "name": "stdout",
     "output_type": "stream",
     "text": [
      "2 5 8 11 14 "
     ]
    }
   ],
   "source": [
    "#program for range(si,ei,step) \n",
    "for i in range(2,16,3):\n",
    "    print(i,end=\" \")\n"
   ]
  },
  {
   "cell_type": "markdown",
   "metadata": {},
   "source": [
    "# Question 3:\n",
    " Consider two numbers. Perform their subtraction and if the result of subtraction is greater than\n",
    "25, print their multiplication result else print their division result."
   ]
  },
  {
   "cell_type": "code",
   "execution_count": 18,
   "metadata": {},
   "outputs": [
    {
     "name": "stdout",
     "output_type": "stream",
     "text": [
      "Enter first number :  70\n",
      "Enter second number :  9\n",
      "Multiplication=  630\n"
     ]
    }
   ],
   "source": [
    "#Answer 3\n",
    "a=int(input(\"Enter first number :  \"))\n",
    "b=int(input(\"Enter second number :  \"))\n",
    "if (a-b)>25:\n",
    "    print(\"Multiplication= \",a*b)\n",
    "else:\n",
    "    print(\"Division = \",a/b)"
   ]
  },
  {
   "cell_type": "markdown",
   "metadata": {},
   "source": [
    "# Question 4:\n",
    "Consider a list of 10 elements of integer values. If the number in the list is divisible by 2, print the\n",
    "result as \"square of that number minus 2\"."
   ]
  },
  {
   "cell_type": "code",
   "execution_count": 19,
   "metadata": {},
   "outputs": [
    {
     "name": "stdout",
     "output_type": "stream",
     "text": [
      "square of that number minus two\n",
      "square of that number minus two\n",
      "square of that number minus two\n",
      "square of that number minus two\n",
      "square of that number minus two\n"
     ]
    }
   ],
   "source": [
    "#Answer 4\n",
    "l=[1,2,3,4,5,6,7,8,9,10]\n",
    "for i in l:\n",
    "    if i%2==0:\n",
    "        print(\"square of that number minus two\")"
   ]
  },
  {
   "cell_type": "markdown",
   "metadata": {},
   "source": [
    "# Question 5:\n",
    "Consider a list of 10 elements. Print all the elements in the list which are greater than 7 when that\n",
    "number is divided 2."
   ]
  },
  {
   "cell_type": "code",
   "execution_count": 20,
   "metadata": {},
   "outputs": [
    {
     "name": "stdout",
     "output_type": "stream",
     "text": [
      "46\n",
      "12\n",
      "56\n",
      "32\n",
      "40\n"
     ]
    }
   ],
   "source": [
    "#Amswer 5\n",
    "l=[23,46,12,37,56,89,32,89,40,111]\n",
    "for i in l:\n",
    "    if i%2==0:\n",
    "        if i>7:\n",
    "            print(i)"
   ]
  },
  {
   "cell_type": "code",
   "execution_count": null,
   "metadata": {},
   "outputs": [],
   "source": []
  }
 ],
 "metadata": {
  "kernelspec": {
   "display_name": "Python 3",
   "language": "python",
   "name": "python3"
  },
  "language_info": {
   "codemirror_mode": {
    "name": "ipython",
    "version": 3
   },
   "file_extension": ".py",
   "mimetype": "text/x-python",
   "name": "python",
   "nbconvert_exporter": "python",
   "pygments_lexer": "ipython3",
   "version": "3.8.4"
  }
 },
 "nbformat": 4,
 "nbformat_minor": 4
}
