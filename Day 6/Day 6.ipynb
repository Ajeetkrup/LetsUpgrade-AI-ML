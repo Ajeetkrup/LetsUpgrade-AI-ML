{
 "cells": [
  {
   "cell_type": "markdown",
   "metadata": {},
   "source": [
    "# Question 1:\n",
    "Assuming that we have some email addresses in the \"username@companyname.com\" format, please write program\n",
    "to print the company name of a given email address. Both user names and company names are composed of letters\n",
    "only.\n"
   ]
  },
  {
   "cell_type": "code",
   "execution_count": 1,
   "metadata": {},
   "outputs": [
    {
     "name": "stdout",
     "output_type": "stream",
     "text": [
      "Enter the required string : rinku2244@cisco.com\n",
      "cisco\n"
     ]
    }
   ],
   "source": [
    "#Answer 1\n",
    "string=input(\"Enter the required string : \")\n",
    "print(string.split('@')[1].split('.')[0])"
   ]
  },
  {
   "cell_type": "markdown",
   "metadata": {},
   "source": [
    "# Question 2:\n",
    "Write a program that accepts a comma-separated sequence of words as input and prints the words in a comma\n",
    "separated sequence after sorting them alphabetically.\n"
   ]
  },
  {
   "cell_type": "code",
   "execution_count": 5,
   "metadata": {},
   "outputs": [
    {
     "name": "stdout",
     "output_type": "stream",
     "text": [
      "Enter the words : orange,apple,papaya,grapes,banana,cherry\n",
      "apple,banana,cherry,grapes,orange,papaya\n"
     ]
    }
   ],
   "source": [
    "#Answer 2\n",
    "items=[x for x in input(\"Enter the words : \").split(',')]\n",
    "items.sort()\n",
    "print(','.join(items))"
   ]
  },
  {
   "cell_type": "markdown",
   "metadata": {},
   "source": [
    "# Question 3:\n",
    "Create your own Jupyter Notebook for Sets."
   ]
  },
  {
   "cell_type": "markdown",
   "metadata": {},
   "source": [
    "# Answer 3\n",
    "## __Set__\n",
    "A set is a collection which is unordered and unindexed. In Python sets are written with curly brackets.\n",
    "\n",
    "Example\n",
    "\n",
    "Create a Set:\n",
    "\n",
    "thisset = {\"apple\", \"banana\", \"cherry\"}\n",
    "\n",
    "print(thisset)\n",
    "\n",
    "___Output___\n",
    "\n",
    "{\"apple\", \"banana\", \"cherry\"}\n",
    "\n",
    "__Access Items__\n",
    "\n",
    "You cannot access items in a set by referring to an index, since sets are unordered the items has no index.\n",
    "\n",
    "But you can loop through the set items using a for loop, or ask if a specified value is present in a set, by using the in keyword.\n",
    "\n",
    "Example\n",
    "\n",
    "Loop through the set, and print the values:\n",
    "\n",
    "thisset = {\"apple\", \"banana\", \"cherry\"}\n",
    "\n",
    "for x in thisset:\n",
    "\n",
    "  print(x)\n",
    "  \n",
    "___Output___ \n",
    "\n",
    "apple\n",
    "\n",
    "banana\n",
    "\n",
    "cherry\n",
    "\n",
    "__Change Items__\n",
    "\n",
    "Once a set is created, you cannot change its items, but you can add new items.\n",
    "\n",
    "__Add Items__\n",
    "\n",
    "To add one item to a set use the add() method.\n",
    "\n",
    "To add more than one item to a set use the update() method.\n",
    "\n",
    "__Get the Length of a Set__\n",
    "\n",
    "To determine how many items a set has, use the len() method.\n",
    "\n",
    "__Remove Item__\n",
    "\n",
    "To remove an item in a set, use the remove(), or the discard() method.\n",
    "\n",
    "__Join Two Sets__\n",
    "\n",
    "There are several ways to join two or more sets in Python.\n",
    "\n",
    "You can use the union() method that returns a new set containing all items from both sets, or the update() method that inserts all the items from one set into another.\n",
    "\n",
    "__Set Methods__\n",
    "\n",
    "Python has a set of built-in methods that you can use on sets.\n",
    "\n",
    "add()-\n",
    "Adds an element to the set\n",
    "\n",
    "clear()-\t \n",
    "Removes all the elements from the set\n",
    "\n",
    "copy()-\t\n",
    "Returns a copy of the set\n",
    "\n",
    "difference()-\n",
    "Returns a set containing the difference between two or more sets\n",
    "\n",
    "difference_update()-\n",
    "Removes the items in this set that are also included in another, specified set\n",
    "\n",
    "discard()-\n",
    "Remove the specified item\n",
    "\n",
    "intersection()-\n",
    "Returns a set, that is the intersection of two other sets\n",
    "\n",
    "intersection_update()-\n",
    "Removes the items in this set that are not present in other, specified set(s)\n",
    "\n",
    "isdisjoint()-\n",
    "Returns whether two sets have a intersection or not\n",
    "\n",
    "issubset()-\n",
    "Returns whether another set contains this set or not\n",
    "\n",
    "issuperset()-\n",
    "Returns whether this set contains another set or not\n",
    "\n",
    "pop()-\n",
    "Removes an element from the set"
   ]
  },
  {
   "cell_type": "markdown",
   "metadata": {},
   "source": [
    "# Question 4:\n",
    "Given a list of n-1 numbers ranging from 1 to n, your task is to find the missing number. There are no duplicates.\n"
   ]
  },
  {
   "cell_type": "code",
   "execution_count": 4,
   "metadata": {},
   "outputs": [
    {
     "name": "stdout",
     "output_type": "stream",
     "text": [
      "\n",
      "Enter the numbers separated by space : 1 2 3 4 6 7 8 9\n",
      "Missing Number =  5\n"
     ]
    }
   ],
   "source": [
    "#Answer 4\n",
    "a =input(\"\\nEnter the numbers separated by space : \")\n",
    "b=a.split()\n",
    "sum_of_a=0\n",
    "for i in b:\n",
    "    sum_of_a += int(i)\n",
    "n=len(b)\n",
    "total=(n+1)*(n+2)/2\n",
    "result=total-sum_of_a\n",
    "print(\"Missing Number = \" , int(result))"
   ]
  },
  {
   "cell_type": "markdown",
   "metadata": {},
   "source": [
    "## Question 5:\n",
    "With a given list L, write a program to print this list L after removing all duplicate values with original order reserv"
   ]
  },
  {
   "cell_type": "code",
   "execution_count": 16,
   "metadata": {
    "scrolled": true
   },
   "outputs": [
    {
     "name": "stdout",
     "output_type": "stream",
     "text": [
      "\n",
      "Enter the numbers :12 24 35 24 88 120 155 88 120 155\n",
      "['12', '24', '35', '88', '120', '155']\n"
     ]
    }
   ],
   "source": [
    "#Answer 5\n",
    "a=[x for x in input(\"\\nEnter the numbers :\").split()]\n",
    "l=[]\n",
    "for i in a:\n",
    "    if i not in l:\n",
    "        l.append(i)      \n",
    "print(l)"
   ]
  }
 ],
 "metadata": {
  "kernelspec": {
   "display_name": "Python 3",
   "language": "python",
   "name": "python3"
  },
  "language_info": {
   "codemirror_mode": {
    "name": "ipython",
    "version": 3
   },
   "file_extension": ".py",
   "mimetype": "text/x-python",
   "name": "python",
   "nbconvert_exporter": "python",
   "pygments_lexer": "ipython3",
   "version": "3.8.4"
  }
 },
 "nbformat": 4,
 "nbformat_minor": 4
}
