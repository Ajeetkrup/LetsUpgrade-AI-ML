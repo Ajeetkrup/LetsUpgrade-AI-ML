{
 "cells": [
  {
   "cell_type": "markdown",
   "metadata": {},
   "source": [
    "# 1. Create a 3x3x3 array with random values "
   ]
  },
  {
   "cell_type": "code",
   "execution_count": 27,
   "metadata": {},
   "outputs": [
    {
     "data": {
      "text/plain": [
       "array([[[6.23042070e-307, 3.56043053e-307, 1.60219306e-306],\n",
       "        [7.56571288e-307, 1.89146896e-307, 1.37961302e-306],\n",
       "        [1.05699242e-307, 8.01097889e-307, 1.78020169e-306]],\n",
       "\n",
       "       [[7.56601165e-307, 1.02359984e-306, 1.42417221e-306],\n",
       "        [7.56593017e-307, 1.37961302e-306, 1.02359645e-306],\n",
       "        [1.42420617e-306, 6.89804133e-307, 8.45610231e-307]],\n",
       "\n",
       "       [[9.34601642e-307, 8.45590539e-307, 1.02360256e-306],\n",
       "        [8.45599366e-307, 8.45559303e-307, 1.06811422e-306],\n",
       "        [1.05694828e-307, 2.22522596e-306, 4.89124989e-322]]])"
      ]
     },
     "execution_count": 27,
     "metadata": {},
     "output_type": "execute_result"
    }
   ],
   "source": [
    "import pandas as pd\n",
    "import numpy as np\n",
    "np.empty((3,3,3))"
   ]
  },
  {
   "cell_type": "markdown",
   "metadata": {},
   "source": [
    "# 2.Create a 5x5 matrix with values 1,2,3,4 just below the diagonal"
   ]
  },
  {
   "cell_type": "code",
   "execution_count": 25,
   "metadata": {},
   "outputs": [
    {
     "name": "stdout",
     "output_type": "stream",
     "text": [
      "[[0 0 0 0 0]\n",
      " [1 0 0 0 0]\n",
      " [0 2 0 0 0]\n",
      " [0 0 3 0 0]\n",
      " [0 0 0 4 0]]\n"
     ]
    }
   ],
   "source": [
    "M = np.diag(1+np.arange(4),k=-1)\n",
    "print(M)"
   ]
  },
  {
   "cell_type": "markdown",
   "metadata": {},
   "source": [
    "# 3.Create a 8x8 matrix and fill it with a checkerboard pattern"
   ]
  },
  {
   "cell_type": "code",
   "execution_count": 29,
   "metadata": {},
   "outputs": [
    {
     "name": "stdout",
     "output_type": "stream",
     "text": [
      "[[0 1 0 1 0 1 0 1 0]\n",
      " [1 0 1 0 1 0 1 0 1]\n",
      " [0 1 0 1 0 1 0 1 0]\n",
      " [1 0 1 0 1 0 1 0 1]\n",
      " [0 1 0 1 0 1 0 1 0]\n",
      " [1 0 1 0 1 0 1 0 1]\n",
      " [0 1 0 1 0 1 0 1 0]\n",
      " [1 0 1 0 1 0 1 0 1]\n",
      " [0 1 0 1 0 1 0 1 0]]\n"
     ]
    }
   ],
   "source": [
    "M = np.zeros((9,9),dtype=int)\n",
    "M[1::2,::2] = 1\n",
    "M[::2,1::2] = 1\n",
    "print(M)"
   ]
  },
  {
   "cell_type": "markdown",
   "metadata": {},
   "source": [
    "# 4. Normalize a 5x5 random matrix"
   ]
  },
  {
   "cell_type": "code",
   "execution_count": 24,
   "metadata": {},
   "outputs": [
    {
     "name": "stdout",
     "output_type": "stream",
     "text": [
      "[[-0.34222861  0.98718502 -0.1214804  -1.1883261   1.09467014]\n",
      " [-0.91893474  1.18352527 -0.58875091  0.52666175  0.03772703]\n",
      " [-0.06834251  2.32848539 -0.81941272 -1.46501278  1.30050308]\n",
      " [ 0.92302484  0.7342651  -1.39729774 -0.65787265  0.53927248]\n",
      " [-0.35421447 -0.46110528 -0.9772661  -1.38713521  1.09206011]]\n"
     ]
    }
   ],
   "source": [
    "M = np.random.random((5,5))\n",
    "M = (M - np.mean (M)) / (np.std (M))\n",
    "print(M)"
   ]
  },
  {
   "cell_type": "markdown",
   "metadata": {},
   "source": [
    "# 5.  How to find common values between two arrays?"
   ]
  },
  {
   "cell_type": "code",
   "execution_count": 26,
   "metadata": {},
   "outputs": [
    {
     "name": "stdout",
     "output_type": "stream",
     "text": [
      "[ 1  2  3  4  5  6  7  8  9 10 11 12 13 14 15 16 17 18 19 20 21 22 23 24\n",
      " 25 26 27 28 29 30 31 32 33 34 35 36 37 38 39 40 41 42 43 44 45 46 47 48\n",
      " 49 50 51 52 53 54 55 56 57 58 59 60 61 62 63 64 65 66 67 68 69 70 71 72\n",
      " 73 74 75 76 77 78 79 80 81 82 83 84 85 86 87 88 89 90 91 92 93 94 95 96\n",
      " 97 98 99]\n"
     ]
    }
   ],
   "source": [
    "A = np.random.randint(1,100,1000)\n",
    "B = np.random.randint(1,100,1000)\n",
    "print(np.intersect1d(Z1,Z2))"
   ]
  },
  {
   "cell_type": "markdown",
   "metadata": {},
   "source": [
    "# 6.How to get the dates of yesterday, today and tomorrow?"
   ]
  },
  {
   "cell_type": "code",
   "execution_count": 21,
   "metadata": {},
   "outputs": [
    {
     "name": "stdout",
     "output_type": "stream",
     "text": [
      "2020-08-16\n",
      "2020-08-17\n",
      "2020-08-18\n"
     ]
    }
   ],
   "source": [
    "yesterday = np.datetime64('today') - np.timedelta64(1)\n",
    "today     = np.datetime64('today')\n",
    "tomorrow  = np.datetime64('today') + np.timedelta64(1)\n",
    "print(yesterday)\n",
    "print(today)\n",
    "print(tomorrow)"
   ]
  },
  {
   "cell_type": "markdown",
   "metadata": {},
   "source": [
    "# 7. Consider two random array A and B, check if they are equal"
   ]
  },
  {
   "cell_type": "code",
   "execution_count": 22,
   "metadata": {},
   "outputs": [
    {
     "name": "stdout",
     "output_type": "stream",
     "text": [
      "False\n"
     ]
    }
   ],
   "source": [
    "A = np.random.randint(0,10,20)\n",
    "B = np.random.randint(0,10,20)\n",
    "equal = np.array_equal(A,B)\n",
    "print(equal)"
   ]
  },
  {
   "cell_type": "markdown",
   "metadata": {},
   "source": [
    "# 8.Create random vector of size 10 and replace the maximum value by 0 "
   ]
  },
  {
   "cell_type": "code",
   "execution_count": 20,
   "metadata": {},
   "outputs": [
    {
     "name": "stdout",
     "output_type": "stream",
     "text": [
      "[6. 4. 4. 4. 2. 4. 4. 2. 2. 0.]\n"
     ]
    }
   ],
   "source": [
    "b=np.empty((10))\n",
    "b[b.argmax()]=0\n",
    "print(b)"
   ]
  },
  {
   "cell_type": "markdown",
   "metadata": {},
   "source": [
    "# 9. How to print all the values of an array?"
   ]
  },
  {
   "cell_type": "code",
   "execution_count": 19,
   "metadata": {},
   "outputs": [
    {
     "name": "stdout",
     "output_type": "stream",
     "text": [
      "[[0.00000000e+000 0.00000000e+000 0.00000000e+000]\n",
      " [0.00000000e+000 0.00000000e+000 6.00783825e-321]\n",
      " [1.01855798e-312 8.70018274e-313 1.37961302e-306]]\n"
     ]
    }
   ],
   "source": [
    "arr=np.empty((3,3))\n",
    "print(arr)"
   ]
  },
  {
   "cell_type": "markdown",
   "metadata": {},
   "source": [
    "# 10.Subtract the mean of each row of a matrix"
   ]
  },
  {
   "cell_type": "code",
   "execution_count": 18,
   "metadata": {},
   "outputs": [
    {
     "name": "stdout",
     "output_type": "stream",
     "text": [
      "[[ 0.08394656 -0.08032365  0.28489733  0.34479744 -0.2268712  -0.29921426\n",
      "   0.24156632 -0.44496575 -0.13847465  0.23464187]\n",
      " [ 0.18715749 -0.19803099  0.03227194  0.28236906 -0.12016088 -0.31104886\n",
      "  -0.11471104  0.06954582  0.28564861 -0.11304116]\n",
      " [ 0.43268733  0.15336579 -0.4999143  -0.0370507  -0.11649944 -0.39347284\n",
      "   0.41809615  0.26688094  0.07096904 -0.29506199]\n",
      " [-0.41717404 -0.08553299 -0.05801722  0.438221    0.37747227  0.28274778\n",
      "  -0.37321217  0.47624942 -0.40835002 -0.23240403]\n",
      " [-0.44266398  0.13772071 -0.36588014 -0.30371186  0.36420778  0.27946996\n",
      "   0.22694384  0.36443688 -0.3019215   0.0413983 ]]\n"
     ]
    }
   ],
   "source": [
    "X = np.random.rand(5, 10)\n",
    "Y = X - X.mean(axis=1, keepdims=True)\n",
    "print(Y)"
   ]
  },
  {
   "cell_type": "markdown",
   "metadata": {},
   "source": [
    "# 11.Consider a given vector, how to add 1 to each element indexed by a second vector (be careful with repeated indices)? "
   ]
  },
  {
   "cell_type": "code",
   "execution_count": 16,
   "metadata": {},
   "outputs": [
    {
     "name": "stdout",
     "output_type": "stream",
     "text": [
      "[3. 2. 2. 2. 1. 2. 2. 1. 1. 4.]\n"
     ]
    }
   ],
   "source": [
    "Z = np.zeros(10)\n",
    "I = np.random.randint(0,len(Z),20)\n",
    "Z += np.bincount(I, minlength=len(Z))\n",
    "print(Z)"
   ]
  },
  {
   "cell_type": "code",
   "execution_count": 17,
   "metadata": {},
   "outputs": [
    {
     "name": "stdout",
     "output_type": "stream",
     "text": [
      "[6. 4. 4. 4. 2. 4. 4. 2. 2. 8.]\n"
     ]
    }
   ],
   "source": [
    "np.add.at(Z, I, 1)\n",
    "print(Z)"
   ]
  },
  {
   "cell_type": "markdown",
   "metadata": {},
   "source": [
    "# 12.How to get the diagonal of a dot product?"
   ]
  },
  {
   "cell_type": "code",
   "execution_count": 14,
   "metadata": {},
   "outputs": [
    {
     "name": "stdout",
     "output_type": "stream",
     "text": [
      "[[0. 0. 0. 0. 0.]\n",
      " [0. 0. 0. 0. 0.]\n",
      " [0. 0. 0. 0. 0.]\n",
      " [0. 0. 0. 0. 0.]\n",
      " [0. 0. 0. 0. 0.]]\n",
      "[[0. 0. 0. 0. 0.]\n",
      " [0. 0. 0. 0. 0.]\n",
      " [0. 0. 0. 0. 0.]\n",
      " [0. 0. 0. 0. 0.]\n",
      " [0. 0. 0. 0. 0.]]\n",
      "diagonal of a dot product is.... [0. 0. 0. 0. 0.]\n"
     ]
    }
   ],
   "source": [
    "A = np.empty((5,5))\n",
    "B = np.empty((5,5))\n",
    "print(A)\n",
    "print(B)\n",
    "prod1=np.diag(np.dot(A, B))\n",
    "print(\"diagonal of a dot product is....\",prod1)"
   ]
  },
  {
   "cell_type": "markdown",
   "metadata": {},
   "source": [
    "# 13.How to find the most frequent value in an array?"
   ]
  },
  {
   "cell_type": "code",
   "execution_count": 10,
   "metadata": {},
   "outputs": [
    {
     "name": "stdout",
     "output_type": "stream",
     "text": [
      "[12 16 15 17 19 12 17 12 16 12 15 17 12 12 14 15 18 19 18 17 16 13 19 19\n",
      " 16 13 12 13 18 14 15 18 19 18 16 12 16 13 13 12 15 13 15 12 19 18 13 18\n",
      " 18 13]\n",
      "12\n"
     ]
    }
   ],
   "source": [
    "Z = np.random.randint(11,20,50)\n",
    "print(Z)\n",
    "print(np.bincount(Z).argmax())"
   ]
  },
  {
   "cell_type": "markdown",
   "metadata": {},
   "source": [
    "# 14.How to get the n largest values of an array"
   ]
  },
  {
   "cell_type": "code",
   "execution_count": 9,
   "metadata": {},
   "outputs": [
    {
     "name": "stdout",
     "output_type": "stream",
     "text": [
      "[99993 99994 99995 99996 99997 99998 99999]\n"
     ]
    }
   ],
   "source": [
    "M = np.arange(100000)\n",
    "np.random.shuffle(M)\n",
    "n = 7\n",
    "\n",
    "\n",
    "print (M[np.argsort(M)[-n:]])"
   ]
  },
  {
   "cell_type": "markdown",
   "metadata": {},
   "source": [
    "# 15.How to create a record array from a regular array?"
   ]
  },
  {
   "cell_type": "code",
   "execution_count": 8,
   "metadata": {},
   "outputs": [
    {
     "name": "stdout",
     "output_type": "stream",
     "text": [
      "[(b'Your', 3.1, 4) (b'Welcome', 5.2, 4)]\n"
     ]
    }
   ],
   "source": [
    "J = np.array([(\"Your\", 3.1, 4),\n",
    "              (\"Welcome\", 5.2, 4)])\n",
    "M = np.core.records.fromarrays(J.T,\n",
    "                               names='col1, col2, col3',\n",
    "                               formats = 'S8, f8, i8')\n",
    "print(M)"
   ]
  }
 ],
 "metadata": {
  "kernelspec": {
   "display_name": "Python 3",
   "language": "python",
   "name": "python3"
  },
  "language_info": {
   "codemirror_mode": {
    "name": "ipython",
    "version": 3
   },
   "file_extension": ".py",
   "mimetype": "text/x-python",
   "name": "python",
   "nbconvert_exporter": "python",
   "pygments_lexer": "ipython3",
   "version": "3.7.6"
  }
 },
 "nbformat": 4,
 "nbformat_minor": 2
}
