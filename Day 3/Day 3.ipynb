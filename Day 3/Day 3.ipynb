{
 "cells": [
  {
   "cell_type": "markdown",
   "metadata": {},
   "source": [
    "# Question 1 :\n",
    "Write a program to subtract two complex numbers in Python."
   ]
  },
  {
   "cell_type": "code",
   "execution_count": 1,
   "metadata": {},
   "outputs": [
    {
     "name": "stdout",
     "output_type": "stream",
     "text": [
      "First number= (3+5j) Second number= (2+3j) Difference= (1+2j)\n"
     ]
    }
   ],
   "source": [
    "#Answer 1\n",
    "a=3+5j\n",
    "b=2+3j\n",
    "difference=a-b\n",
    "print(\"First number=\",a,\"Second number=\",b,\"Difference=\",difference)"
   ]
  },
  {
   "cell_type": "markdown",
   "metadata": {},
   "source": [
    "# Question 2 :\n",
    "Write a program to find the fourth root of a number."
   ]
  },
  {
   "cell_type": "code",
   "execution_count": 2,
   "metadata": {},
   "outputs": [
    {
     "name": "stdout",
     "output_type": "stream",
     "text": [
      "Fourth root= 2.0\n"
     ]
    }
   ],
   "source": [
    "#Answer 2\n",
    "a=16\n",
    "root=a**(1/4)\n",
    "print(\"Fourth root=\",root)"
   ]
  },
  {
   "cell_type": "markdown",
   "metadata": {},
   "source": [
    "# Question 3:\n",
    "Write a program to swap two numbers in Python with the help of a temporary variable."
   ]
  },
  {
   "cell_type": "code",
   "execution_count": 6,
   "metadata": {},
   "outputs": [
    {
     "name": "stdout",
     "output_type": "stream",
     "text": [
      "Before swapping= 4 & 5\n",
      "After swapping= 5 & 4\n"
     ]
    }
   ],
   "source": [
    "#Answer 3\n",
    "a=4\n",
    "b=5\n",
    "c=a\n",
    "d=b\n",
    "temp=a\n",
    "a=b\n",
    "b=temp\n",
    "print(\"Before swapping=\",c,\"&\",d)\n",
    "print(\"After swapping=\",a,\"&\",b)"
   ]
  },
  {
   "cell_type": "markdown",
   "metadata": {},
   "source": [
    "# Question 4:\n",
    "Write a program to swap two numbers in Python without using a temporary variable."
   ]
  },
  {
   "cell_type": "code",
   "execution_count": 7,
   "metadata": {},
   "outputs": [
    {
     "name": "stdout",
     "output_type": "stream",
     "text": [
      "Before swapping= 6 & 7\n",
      "After swapping= 7 & 6\n"
     ]
    }
   ],
   "source": [
    "#Answer 4\n",
    "a=6\n",
    "b=7\n",
    "c=a\n",
    "d=b\n",
    "a=a+b\n",
    "b=a-b\n",
    "a=a-b\n",
    "print(\"Before swapping=\",c,\"&\",d)\n",
    "print(\"After swapping=\",a,'&',b)"
   ]
  },
  {
   "cell_type": "markdown",
   "metadata": {},
   "source": [
    "# Question 5:\n",
    "Write a program to convert fahrenheit to kelvin and celsius both."
   ]
  },
  {
   "cell_type": "code",
   "execution_count": 10,
   "metadata": {},
   "outputs": [
    {
     "name": "stdout",
     "output_type": "stream",
     "text": [
      "Conversion from Fahreheit= 112  to Celsius= 144.0\n",
      "Converting Fahrenheit= 112  to Kelvin= 417.15\n"
     ]
    }
   ],
   "source": [
    "#Anser 5\n",
    "F=112\n",
    "C=(F-32)/(5/9)\n",
    "K=(F-32)/(5/9)+273.15\n",
    "print(\"Conversion from Fahreheit=\",F,\" to Celsius=\",C)\n",
    "print(\"Converting Fahrenheit=\",F,\" to Kelvin=\",K)\n"
   ]
  },
  {
   "cell_type": "markdown",
   "metadata": {},
   "source": [
    "# Question 6:\n",
    "Write a program to demonstrate all the available data types in Python. Hint: Use type() function.\n"
   ]
  },
  {
   "cell_type": "code",
   "execution_count": 13,
   "metadata": {},
   "outputs": [
    {
     "name": "stdout",
     "output_type": "stream",
     "text": [
      "<class 'int'>\n",
      "<class 'float'>\n",
      "<class 'str'>\n"
     ]
    }
   ],
   "source": [
    "#Answer 6\n",
    "i=10\n",
    "f=10.0\n",
    "s=\"duck\"\n",
    "print(type(i))\n",
    "print(type(f))\n",
    "print(type(s))"
   ]
  },
  {
   "cell_type": "markdown",
   "metadata": {},
   "source": [
    "# Question 7:\n",
    "Create a Markdown cell in jupyter and list the steps discussed in the session by Dr. Darshan\n",
    "Ingle sir to create Github profile and upload Githubs Assignment link."
   ]
  },
  {
   "cell_type": "markdown",
   "metadata": {},
   "source": [
    "# By Dr. Darshan Ingle sir\n",
    "\n",
    "###How to submit assignments?\n",
    "\n",
    "\n",
    "\n",
    "1.Go to __Github.com.__\n",
    "\n",
    "2.Signup using your G-mail id and create your profile.\n",
    "\n",
    "3.Click on New option in ___Repository section___.\n",
    "\n",
    "4.Name repository as __LetsUpgrade AI/ML__ and name description as __Assignment__.Keep it public.\n",
    "\n",
    "5.Click on create option.\n",
    "\n",
    "6.Click on upload file.\n",
    "\n",
    "7.Upload the required file (Assignment solution) from your PC.\n",
    "\n",
    "8.Click on ___Commit changes___ option.\n",
    "\n",
    "9.Copy the URL of the folder and copy it in the Google form provided for assignment section."
   ]
  },
  {
   "cell_type": "code",
   "execution_count": null,
   "metadata": {},
   "outputs": [],
   "source": []
  }
 ],
 "metadata": {
  "kernelspec": {
   "display_name": "Python 3",
   "language": "python",
   "name": "python3"
  },
  "language_info": {
   "codemirror_mode": {
    "name": "ipython",
    "version": 3
   },
   "file_extension": ".py",
   "mimetype": "text/x-python",
   "name": "python",
   "nbconvert_exporter": "python",
   "pygments_lexer": "ipython3",
   "version": "3.8.4"
  }
 },
 "nbformat": 4,
 "nbformat_minor": 4
}
