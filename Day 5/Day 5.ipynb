{
 "cells": [
  {
   "cell_type": "markdown",
   "metadata": {},
   "source": [
    "# Question 1 : \n",
    "Write a Python program to find the first 20 non-even prime natural numbers."
   ]
  },
  {
   "cell_type": "code",
   "execution_count": 15,
   "metadata": {},
   "outputs": [
    {
     "name": "stdout",
     "output_type": "stream",
     "text": [
      "3 5 7 11 13 17 19 23 29 31 37 41 43 47 53 59 61 67 71 73 "
     ]
    }
   ],
   "source": [
    "#Answer 1\n",
    "for i in range(1,75):\n",
    "    c=0\n",
    "#Checking for non-even numbers    \n",
    "    if i%2!=0:\n",
    " #Checking for factors       \n",
    "        for x in range(1,i+1):\n",
    "            if  i%x==0:\n",
    "                c=c+1\n",
    "#Checking for prime numbers                \n",
    "    if c==2:\n",
    "        print(i, end=\" \")\n",
    "            "
   ]
  },
  {
   "cell_type": "markdown",
   "metadata": {},
   "source": [
    "# Question 2 :\n",
    "Write a Python program to implement 15 functions of string."
   ]
  },
  {
   "cell_type": "code",
   "execution_count": 1,
   "metadata": {},
   "outputs": [
    {
     "name": "stdout",
     "output_type": "stream",
     "text": [
      "Swapcase function-  dR. DARSHAN INGLE\n",
      "Find function-  0\n",
      "Upper function-  DR. DARSHAN INGLE\n",
      "Lower fuction-  dr. darshan ingle\n",
      "Title function-  Dr. Darshan Ingle\n",
      "Index function-  12\n",
      "Split function-  ['Dr.', 'darshan', 'ingle']\n",
      "Strip function-  Dr. darshan ingle\n",
      "Count function-  2\n",
      "Endswith function-  True\n",
      "Isnumeric function-  False\n",
      "Isalpha function-  False\n",
      "Startswith-  True\n",
      "Splitlines function-  ['Dr. darshan ingle']\n",
      "Rjust function-               Dr. darshan ingle\n"
     ]
    }
   ],
   "source": [
    "#Answer 6\n",
    "s=\"Dr. darshan ingle\"\n",
    "print(\"Swapcase function- \",s.swapcase())\n",
    "print(\"Find function- \",s.find(\"D\"))\n",
    "print(\"Upper function- \",s.upper())\n",
    "print(\"Lower fuction- \",s.lower())\n",
    "print(\"Title function- \",s.title())\n",
    "print(\"Index function- \",s.index(\"i\"))\n",
    "print(\"Split function- \",s.split())\n",
    "print(\"Strip function- \",s.strip())\n",
    "print(\"Count function- \",s.count(\"a\"))\n",
    "print(\"Endswith function- \",s.endswith(\"gle\"))\n",
    "print(\"Isnumeric function- \",s.isnumeric())\n",
    "print(\"Isalpha function- \",s.isalpha())\n",
    "print(\"Startswith- \",s.startswith(\"D\"))\n",
    "print(\"Splitlines function- \",s.splitlines())\n",
    "print(\"Rjust function- \",s.rjust(30))\n"
   ]
  },
  {
   "cell_type": "markdown",
   "metadata": {},
   "source": [
    "# Question 3:\n",
    "Write a Python program to check if the given string is a Palindrome or Anagram or None of them.\n",
    "Display the message accordingly to the user."
   ]
  },
  {
   "cell_type": "code",
   "execution_count": 10,
   "metadata": {},
   "outputs": [
    {
     "name": "stdout",
     "output_type": "stream",
     "text": [
      "Enter your first string : silent\n",
      "Enter your first string : listen\n",
      "Anagram\n"
     ]
    }
   ],
   "source": [
    "#Answer 3\n",
    "string_1=input(\"Enter your first string : \")\n",
    "string_2=input(\"Enter your first string : \")\n",
    "str3= string_1[:]\n",
    "str4=string_1[::-1]\n",
    "if str3 == str4:\n",
    "    print(\"Palindrome\")\n",
    "elif sorted(string_1) == sorted(string_2):\n",
    "     print(\"Anagram\")\n",
    "else: \n",
    "    print(\"None of them\")"
   ]
  },
  {
   "cell_type": "markdown",
   "metadata": {},
   "source": [
    "# Question 4:\n",
    "Write a Python's user defined function that removes all the additional characters from the string\n",
    "and converts it finally to lower case using built-in lower(). eg: If the string is \"Dr. Darshan Ingle\n",
    "@AI-ML Trainer\", then the output be \"drdarshaningleaimltrainer\"."
   ]
  },
  {
   "cell_type": "code",
   "execution_count": 7,
   "metadata": {},
   "outputs": [
    {
     "name": "stdout",
     "output_type": "stream",
     "text": [
      "Enter your string : Dr. Darshan Ingle @AI-ML Trainer\n",
      "drdarshaningleaimltrainer\n"
     ]
    }
   ],
   "source": [
    "#Answer 4\n",
    "def remove_add_char(str):\n",
    "    str1=\"\"\n",
    "    str2=str.lower()\n",
    "    for i in str2:\n",
    "        if  i.isalnum():\n",
    "            str1=  str1 + i\n",
    "        \n",
    "    return str1\n",
    "print(remove_add_char(input(\"Enter your string : \")))"
   ]
  }
 ],
 "metadata": {
  "kernelspec": {
   "display_name": "Python 3",
   "language": "python",
   "name": "python3"
  },
  "language_info": {
   "codemirror_mode": {
    "name": "ipython",
    "version": 3
   },
   "file_extension": ".py",
   "mimetype": "text/x-python",
   "name": "python",
   "nbconvert_exporter": "python",
   "pygments_lexer": "ipython3",
   "version": "3.8.4"
  }
 },
 "nbformat": 4,
 "nbformat_minor": 4
}
